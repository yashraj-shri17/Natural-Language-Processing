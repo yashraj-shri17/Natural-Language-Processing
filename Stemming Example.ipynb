{
 "cells": [
  {
   "cell_type": "code",
   "execution_count": 40,
   "id": "8b7f2ae7",
   "metadata": {},
   "outputs": [],
   "source": [
    "words = ['eating','eats','eaten','programming','programs','go','gone','hisotry','finally','finalized']"
   ]
  },
  {
   "cell_type": "markdown",
   "id": "eb6da8a6",
   "metadata": {},
   "source": [
    "# Porter Stemmer"
   ]
  },
  {
   "cell_type": "code",
   "execution_count": 3,
   "id": "15316fdc",
   "metadata": {},
   "outputs": [],
   "source": [
    "from nltk.stem import PorterStemmer"
   ]
  },
  {
   "cell_type": "code",
   "execution_count": 4,
   "id": "16b79f84",
   "metadata": {},
   "outputs": [],
   "source": [
    "stemming = PorterStemmer()"
   ]
  },
  {
   "cell_type": "code",
   "execution_count": 41,
   "id": "953fc163",
   "metadata": {},
   "outputs": [
    {
     "name": "stdout",
     "output_type": "stream",
     "text": [
      "eating----->eat\n",
      "eats----->eat\n",
      "eaten----->eaten\n",
      "programming----->program\n",
      "programs----->program\n",
      "go----->go\n",
      "gone----->gone\n",
      "hisotry----->hisotri\n",
      "finally----->final\n",
      "finalized----->final\n"
     ]
    }
   ],
   "source": [
    "for word in words:\n",
    "    print(word + \"----->\" + stemming.stem(word))"
   ]
  },
  {
   "cell_type": "markdown",
   "id": "d98066d1",
   "metadata": {},
   "source": [
    "# RegexpStemmer Class"
   ]
  },
  {
   "cell_type": "code",
   "execution_count": 35,
   "id": "f92636b8",
   "metadata": {},
   "outputs": [],
   "source": [
    "from nltk.stem import RegexpStemmer\n",
    "regex_stem = RegexpStemmer('ing$|able$|s$|e$')"
   ]
  },
  {
   "cell_type": "code",
   "execution_count": 36,
   "id": "8b54590f",
   "metadata": {},
   "outputs": [
    {
     "data": {
      "text/plain": [
       "'ingdraw'"
      ]
     },
     "execution_count": 36,
     "metadata": {},
     "output_type": "execute_result"
    }
   ],
   "source": [
    "regex_stem.stem('drawing')"
   ]
  },
  {
   "cell_type": "markdown",
   "id": "298d5ca0",
   "metadata": {},
   "source": [
    "# SnowballStemmer"
   ]
  },
  {
   "cell_type": "code",
   "execution_count": 37,
   "id": "bfc4fdf4",
   "metadata": {},
   "outputs": [],
   "source": [
    "from nltk.stem import SnowballStemmer"
   ]
  },
  {
   "cell_type": "code",
   "execution_count": 38,
   "id": "d87a8219",
   "metadata": {},
   "outputs": [],
   "source": [
    "snow_ball_stemmer = SnowballStemmer('english')"
   ]
  },
  {
   "cell_type": "code",
   "execution_count": 42,
   "id": "b9a79805",
   "metadata": {},
   "outputs": [
    {
     "name": "stdout",
     "output_type": "stream",
     "text": [
      "eating---->eat\n",
      "eats---->eat\n",
      "eaten---->eaten\n",
      "programming---->program\n",
      "programs---->program\n",
      "go---->go\n",
      "gone---->gone\n",
      "hisotry---->hisotri\n",
      "finally---->final\n",
      "finalized---->final\n"
     ]
    }
   ],
   "source": [
    "for word in words:\n",
    "    print(word + \"---->\" + snow_ball_stemmer.stem(word))"
   ]
  },
  {
   "cell_type": "code",
   "execution_count": 45,
   "id": "fc912f80",
   "metadata": {},
   "outputs": [
    {
     "name": "stdout",
     "output_type": "stream",
     "text": [
      "fairli sportingli\n",
      "fair sport\n"
     ]
    }
   ],
   "source": [
    "##seems like similar perform likes the Porter Stemmer , but not correct , in some words can perform better than the Porter Stemmer\n",
    "print(stemming.stem('fairly'),stemming.stem('sportingly'))\n",
    "print(snow_ball_stemmer.stem('fairly'),snow_ball_stemmer.stem('sportingly'))\n",
    "### but it also not give so much satisfactory results "
   ]
  },
  {
   "cell_type": "code",
   "execution_count": null,
   "id": "4a8d21e1",
   "metadata": {},
   "outputs": [],
   "source": []
  }
 ],
 "metadata": {
  "kernelspec": {
   "display_name": "Python 3 (ipykernel)",
   "language": "python",
   "name": "python3"
  },
  "language_info": {
   "codemirror_mode": {
    "name": "ipython",
    "version": 3
   },
   "file_extension": ".py",
   "mimetype": "text/x-python",
   "name": "python",
   "nbconvert_exporter": "python",
   "pygments_lexer": "ipython3",
   "version": "3.11.5"
  }
 },
 "nbformat": 4,
 "nbformat_minor": 5
}
