{
 "cells": [
  {
   "cell_type": "code",
   "execution_count": 11,
   "id": "0cbfb64d",
   "metadata": {},
   "outputs": [],
   "source": [
    "sentence = \"Elon Musk announced at Tesla's headquarters in Austin that SpaceX would launch the Starship rocket to Mars by 2026.\""
   ]
  },
  {
   "cell_type": "code",
   "execution_count": 12,
   "id": "5f9149b6",
   "metadata": {},
   "outputs": [],
   "source": [
    "import nltk"
   ]
  },
  {
   "cell_type": "code",
   "execution_count": 14,
   "id": "38a24db7",
   "metadata": {},
   "outputs": [
    {
     "name": "stdout",
     "output_type": "stream",
     "text": [
      "['Elon', 'Musk', 'announced', 'at', 'Tesla', \"'s\", 'headquarters', 'in', 'Austin', 'that', 'SpaceX', 'would', 'launch', 'the', 'Starship', 'rocket', 'to', 'Mars', 'by', '2026', '.']\n"
     ]
    }
   ],
   "source": [
    "from nltk.tokenize import word_tokenize\n",
    "words = nltk.word_tokenize(sentence)\n",
    "print(words)"
   ]
  },
  {
   "cell_type": "code",
   "execution_count": 18,
   "id": "a4f405d6",
   "metadata": {},
   "outputs": [],
   "source": [
    "tag_pos = nltk.pos_tag(words)"
   ]
  },
  {
   "cell_type": "code",
   "execution_count": 24,
   "id": "7c6188c8",
   "metadata": {},
   "outputs": [
    {
     "data": {
      "text/plain": [
       "[('Elon', 'NNP'),\n",
       " ('Musk', 'NNP'),\n",
       " ('announced', 'VBD'),\n",
       " ('at', 'IN'),\n",
       " ('Tesla', 'NNP'),\n",
       " (\"'s\", 'POS'),\n",
       " ('headquarters', 'NN'),\n",
       " ('in', 'IN'),\n",
       " ('Austin', 'NNP'),\n",
       " ('that', 'IN'),\n",
       " ('SpaceX', 'NNP'),\n",
       " ('would', 'MD'),\n",
       " ('launch', 'VB'),\n",
       " ('the', 'DT'),\n",
       " ('Starship', 'NNP'),\n",
       " ('rocket', 'NN'),\n",
       " ('to', 'TO'),\n",
       " ('Mars', 'NNP'),\n",
       " ('by', 'IN'),\n",
       " ('2026', 'CD'),\n",
       " ('.', '.')]"
      ]
     },
     "execution_count": 24,
     "metadata": {},
     "output_type": "execute_result"
    }
   ],
   "source": [
    "tag_pos"
   ]
  },
  {
   "cell_type": "code",
   "execution_count": 19,
   "id": "f083a387",
   "metadata": {},
   "outputs": [
    {
     "name": "stderr",
     "output_type": "stream",
     "text": [
      "[nltk_data] Downloading package maxent_ne_chunker to\n",
      "[nltk_data]     C:\\Users\\des\\AppData\\Roaming\\nltk_data...\n",
      "[nltk_data]   Unzipping chunkers\\maxent_ne_chunker.zip.\n"
     ]
    },
    {
     "data": {
      "text/plain": [
       "True"
      ]
     },
     "execution_count": 19,
     "metadata": {},
     "output_type": "execute_result"
    }
   ],
   "source": [
    "nltk.download('maxent_ne_chunker')"
   ]
  },
  {
   "cell_type": "code",
   "execution_count": 21,
   "id": "71b2d31f",
   "metadata": {},
   "outputs": [
    {
     "name": "stderr",
     "output_type": "stream",
     "text": [
      "[nltk_data] Downloading package words to\n",
      "[nltk_data]     C:\\Users\\des\\AppData\\Roaming\\nltk_data...\n",
      "[nltk_data]   Unzipping corpora\\words.zip.\n"
     ]
    },
    {
     "data": {
      "text/plain": [
       "True"
      ]
     },
     "execution_count": 21,
     "metadata": {},
     "output_type": "execute_result"
    }
   ],
   "source": [
    "nltk.download('words')"
   ]
  },
  {
   "cell_type": "code",
   "execution_count": 25,
   "id": "588dc259",
   "metadata": {},
   "outputs": [],
   "source": [
    "nltk.ne_chunk(tag_pos).draw()"
   ]
  },
  {
   "cell_type": "code",
   "execution_count": null,
   "id": "2e28a7cb",
   "metadata": {},
   "outputs": [],
   "source": []
  }
 ],
 "metadata": {
  "kernelspec": {
   "display_name": "Python 3 (ipykernel)",
   "language": "python",
   "name": "python3"
  },
  "language_info": {
   "codemirror_mode": {
    "name": "ipython",
    "version": 3
   },
   "file_extension": ".py",
   "mimetype": "text/x-python",
   "name": "python",
   "nbconvert_exporter": "python",
   "pygments_lexer": "ipython3",
   "version": "3.11.5"
  }
 },
 "nbformat": 4,
 "nbformat_minor": 5
}
