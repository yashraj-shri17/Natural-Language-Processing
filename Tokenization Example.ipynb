{
 "cells": [
  {
   "cell_type": "code",
   "execution_count": 1,
   "id": "e125c857",
   "metadata": {},
   "outputs": [
    {
     "name": "stdout",
     "output_type": "stream",
     "text": [
      "Requirement already satisfied: nltk in c:\\users\\des\\anaconda3\\lib\\site-packages (3.8.1)\n",
      "Requirement already satisfied: click in c:\\users\\des\\anaconda3\\lib\\site-packages (from nltk) (8.0.4)\n",
      "Requirement already satisfied: joblib in c:\\users\\des\\anaconda3\\lib\\site-packages (from nltk) (1.2.0)\n",
      "Requirement already satisfied: regex>=2021.8.3 in c:\\users\\des\\anaconda3\\lib\\site-packages (from nltk) (2022.7.9)\n",
      "Requirement already satisfied: tqdm in c:\\users\\des\\anaconda3\\lib\\site-packages (from nltk) (4.65.0)\n",
      "Requirement already satisfied: colorama in c:\\users\\des\\anaconda3\\lib\\site-packages (from click->nltk) (0.4.6)\n"
     ]
    }
   ],
   "source": [
    "!pip install nltk"
   ]
  },
  {
   "cell_type": "code",
   "execution_count": 19,
   "id": "8404d76b",
   "metadata": {},
   "outputs": [],
   "source": [
    "corpus = \"\"\"Hello my name is Yash , I play's cricket , \n",
    "badminton.I also have a internest in! music as well.\"\"\""
   ]
  },
  {
   "cell_type": "code",
   "execution_count": 20,
   "id": "f5fbf124",
   "metadata": {},
   "outputs": [
    {
     "name": "stdout",
     "output_type": "stream",
     "text": [
      "Hello my name is Yash , I play's cricket , \n",
      "badminton.I also have a internest in! music as well.\n"
     ]
    }
   ],
   "source": [
    "print(corpus)"
   ]
  },
  {
   "cell_type": "code",
   "execution_count": 5,
   "id": "2ca046d1",
   "metadata": {},
   "outputs": [],
   "source": [
    "###TOKENIZATION\n",
    "###paragraph(corpus)--->sentences\n",
    "from nltk.tokenize import sent_tokenize\n"
   ]
  },
  {
   "cell_type": "code",
   "execution_count": 21,
   "id": "6f484f96",
   "metadata": {},
   "outputs": [],
   "source": [
    "documents = sent_tokenize(corpus)"
   ]
  },
  {
   "cell_type": "code",
   "execution_count": 22,
   "id": "e33f151d",
   "metadata": {},
   "outputs": [
    {
     "name": "stdout",
     "output_type": "stream",
     "text": [
      "Hello my name is Yash , I play's cricket , \n",
      "badminton.I also have a internest in!\n",
      "music as well.\n"
     ]
    }
   ],
   "source": [
    "for sentence in sent_tokenize(corpus):\n",
    "    print(sentence)\n"
   ]
  },
  {
   "cell_type": "code",
   "execution_count": 23,
   "id": "5d449ae0",
   "metadata": {},
   "outputs": [
    {
     "data": {
      "text/plain": [
       "[\"Hello my name is Yash , I play's cricket , \\nbadminton.I also have a internest in!\",\n",
       " 'music as well.']"
      ]
     },
     "execution_count": 23,
     "metadata": {},
     "output_type": "execute_result"
    }
   ],
   "source": [
    "documents"
   ]
  },
  {
   "cell_type": "code",
   "execution_count": 24,
   "id": "d7a01ee8",
   "metadata": {},
   "outputs": [],
   "source": [
    "###TOkenization\n",
    "###paragraph(corpus)--->words\n",
    "###sentences(documents)--->words"
   ]
  },
  {
   "cell_type": "code",
   "execution_count": 25,
   "id": "620529ca",
   "metadata": {},
   "outputs": [],
   "source": [
    "from nltk.tokenize import word_tokenize"
   ]
  },
  {
   "cell_type": "code",
   "execution_count": 26,
   "id": "b84e76e1",
   "metadata": {},
   "outputs": [
    {
     "data": {
      "text/plain": [
       "['Hello',\n",
       " 'my',\n",
       " 'name',\n",
       " 'is',\n",
       " 'Yash',\n",
       " ',',\n",
       " 'I',\n",
       " 'play',\n",
       " \"'s\",\n",
       " 'cricket',\n",
       " ',',\n",
       " 'badminton.I',\n",
       " 'also',\n",
       " 'have',\n",
       " 'a',\n",
       " 'internest',\n",
       " 'in',\n",
       " '!',\n",
       " 'music',\n",
       " 'as',\n",
       " 'well',\n",
       " '.']"
      ]
     },
     "execution_count": 26,
     "metadata": {},
     "output_type": "execute_result"
    }
   ],
   "source": [
    "word_tokenize(corpus)"
   ]
  },
  {
   "cell_type": "code",
   "execution_count": 27,
   "id": "5863fec7",
   "metadata": {},
   "outputs": [
    {
     "name": "stdout",
     "output_type": "stream",
     "text": [
      "['Hello', 'my', 'name', 'is', 'Yash', ',', 'I', 'play', \"'s\", 'cricket', ',', 'badminton.I', 'also', 'have', 'a', 'internest', 'in', '!']\n",
      "['music', 'as', 'well', '.']\n"
     ]
    }
   ],
   "source": [
    "for sentence in sent_tokenize(corpus):\n",
    "    print(word_tokenize(sentence))"
   ]
  },
  {
   "cell_type": "code",
   "execution_count": 28,
   "id": "a7105cda",
   "metadata": {},
   "outputs": [
    {
     "data": {
      "text/plain": [
       "['Hello',\n",
       " 'my',\n",
       " 'name',\n",
       " 'is',\n",
       " 'Yash',\n",
       " ',',\n",
       " 'I',\n",
       " 'play',\n",
       " \"'\",\n",
       " 's',\n",
       " 'cricket',\n",
       " ',',\n",
       " 'badminton',\n",
       " '.',\n",
       " 'I',\n",
       " 'also',\n",
       " 'have',\n",
       " 'a',\n",
       " 'internest',\n",
       " 'in',\n",
       " '!',\n",
       " 'music',\n",
       " 'as',\n",
       " 'well',\n",
       " '.']"
      ]
     },
     "execution_count": 28,
     "metadata": {},
     "output_type": "execute_result"
    }
   ],
   "source": [
    "###Now one more , is there called as wordpunct_tokenize \"it aslo split like apostrophe s , into single letters\"\n",
    "from nltk.tokenize import wordpunct_tokenize\n",
    "wordpunct_tokenize(corpus)"
   ]
  },
  {
   "cell_type": "code",
   "execution_count": 33,
   "id": "bea35ca7",
   "metadata": {},
   "outputs": [
    {
     "data": {
      "text/plain": [
       "['Hello',\n",
       " 'my',\n",
       " 'name',\n",
       " 'is',\n",
       " 'Yash',\n",
       " ',',\n",
       " 'I',\n",
       " 'play',\n",
       " \"'s\",\n",
       " 'cricket',\n",
       " ',',\n",
       " 'badminton.I',\n",
       " 'also',\n",
       " 'have',\n",
       " 'a',\n",
       " 'internest',\n",
       " 'in',\n",
       " '!',\n",
       " 'music',\n",
       " 'as',\n",
       " 'well',\n",
       " '.']"
      ]
     },
     "execution_count": 33,
     "metadata": {},
     "output_type": "execute_result"
    }
   ],
   "source": [
    "### One more is there called as TreebankWordTokenizer , while splitting words , it does not split ,full stops comes in middle of the sentences except the last one\n",
    "from nltk.tokenize import TreebankWordTokenizer\n",
    "tokenizer = TreebankWordTokenizer()\n",
    "tokenizer.tokenize(corpus)"
   ]
  },
  {
   "cell_type": "code",
   "execution_count": null,
   "id": "68e42979",
   "metadata": {},
   "outputs": [],
   "source": []
  }
 ],
 "metadata": {
  "kernelspec": {
   "display_name": "Python 3 (ipykernel)",
   "language": "python",
   "name": "python3"
  },
  "language_info": {
   "codemirror_mode": {
    "name": "ipython",
    "version": 3
   },
   "file_extension": ".py",
   "mimetype": "text/x-python",
   "name": "python",
   "nbconvert_exporter": "python",
   "pygments_lexer": "ipython3",
   "version": "3.11.5"
  }
 },
 "nbformat": 4,
 "nbformat_minor": 5
}
