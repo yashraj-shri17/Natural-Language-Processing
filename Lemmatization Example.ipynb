{
 "cells": [
  {
   "cell_type": "code",
   "execution_count": 6,
   "id": "b0d148bb",
   "metadata": {},
   "outputs": [
    {
     "name": "stderr",
     "output_type": "stream",
     "text": [
      "[nltk_data] Downloading package wordnet to\n",
      "[nltk_data]     C:\\Users\\des\\AppData\\Roaming\\nltk_data...\n"
     ]
    },
    {
     "data": {
      "text/plain": [
       "True"
      ]
     },
     "execution_count": 6,
     "metadata": {},
     "output_type": "execute_result"
    }
   ],
   "source": [
    "\n",
    "import nltk\n",
    "nltk.download('wordnet')\n"
   ]
  },
  {
   "cell_type": "code",
   "execution_count": 1,
   "id": "59b9c604",
   "metadata": {},
   "outputs": [],
   "source": [
    "words = ['eating','eats','eaten','programming','programs','go','gone','hisotry','finally','finalized']"
   ]
  },
  {
   "cell_type": "code",
   "execution_count": 2,
   "id": "43cabceb",
   "metadata": {},
   "outputs": [],
   "source": [
    "## import WordNetLemmatizer\n",
    "from nltk.stem import WordNetLemmatizer\n",
    "lemmatizer = WordNetLemmatizer()"
   ]
  },
  {
   "cell_type": "code",
   "execution_count": 8,
   "id": "3228cb2e",
   "metadata": {},
   "outputs": [
    {
     "data": {
      "text/plain": [
       "'go'"
      ]
     },
     "execution_count": 8,
     "metadata": {},
     "output_type": "execute_result"
    }
   ],
   "source": [
    "lemmatizer.lemmatize(\"going\",pos='v')"
   ]
  },
  {
   "cell_type": "code",
   "execution_count": 10,
   "id": "4ae701f5",
   "metadata": {},
   "outputs": [
    {
     "name": "stdout",
     "output_type": "stream",
     "text": [
      "eating---->eat\n",
      "eats---->eat\n",
      "eaten---->eat\n",
      "programming---->program\n",
      "programs---->program\n",
      "go---->go\n",
      "gone---->go\n",
      "hisotry---->hisotry\n",
      "finally---->finally\n",
      "finalized---->finalize\n"
     ]
    }
   ],
   "source": [
    "for word in words :\n",
    "    print(word + \"---->\" + lemmatizer.lemmatize(word , pos='v'))"
   ]
  },
  {
   "cell_type": "code",
   "execution_count": null,
   "id": "b10e4854",
   "metadata": {},
   "outputs": [],
   "source": [
    "## jesa word he wesa pos daalna hoga , noun he toh 'n' ,adjective he toh 'a' , verb he toh 'v' and so on..........."
   ]
  }
 ],
 "metadata": {
  "kernelspec": {
   "display_name": "Python 3 (ipykernel)",
   "language": "python",
   "name": "python3"
  },
  "language_info": {
   "codemirror_mode": {
    "name": "ipython",
    "version": 3
   },
   "file_extension": ".py",
   "mimetype": "text/x-python",
   "name": "python",
   "nbconvert_exporter": "python",
   "pygments_lexer": "ipython3",
   "version": "3.11.5"
  }
 },
 "nbformat": 4,
 "nbformat_minor": 5
}
