{
 "cells": [
  {
   "cell_type": "code",
   "execution_count": 43,
   "id": "9047e82b",
   "metadata": {},
   "outputs": [],
   "source": [
    "paragraph = \"\"\"\n",
    "            In a quiet village nestled between rolling hills and whispering forests, \n",
    "            the days flowed gently like the nearby stream. Children laughed as they chased butterflies through fields \n",
    "            dotted with wildflowers, their carefree joy echoing in the warm afternoon air. \n",
    "            Farmers tended to their crops with practiced hands, exchanging cheerful greetings with neighbors passing by on \n",
    "            dusty paths. The aroma of freshly baked bread drifted from open windows, mingling with the scent of honeysuckle \n",
    "            and sun-warmed earth. As the sun dipped behind the hills, painting the sky in hues of orange and rose, families \n",
    "            gathered on porches to share stories and tea. Lanterns flickered to life one by one, casting soft golden glows \n",
    "            across cobblestone streets. A calmness settled over the village, wrapping every home in a blanket of peace. \n",
    "            Life moved slowly here, not out of necessity, but by choice—a treasured rhythm that reminded all who lived there \n",
    "            what truly mattered.\n",
    "            \"\"\""
   ]
  },
  {
   "cell_type": "code",
   "execution_count": 26,
   "id": "0574a961",
   "metadata": {},
   "outputs": [
    {
     "name": "stderr",
     "output_type": "stream",
     "text": [
      "[nltk_data] Downloading package stopwords to\n",
      "[nltk_data]     C:\\Users\\des\\AppData\\Roaming\\nltk_data...\n",
      "[nltk_data]   Package stopwords is already up-to-date!\n"
     ]
    },
    {
     "data": {
      "text/plain": [
       "True"
      ]
     },
     "execution_count": 26,
     "metadata": {},
     "output_type": "execute_result"
    }
   ],
   "source": [
    "import nltk\n",
    "nltk.download('stopwords')"
   ]
  },
  {
   "cell_type": "code",
   "execution_count": 27,
   "id": "749abda2",
   "metadata": {},
   "outputs": [],
   "source": [
    "from nltk.corpus import stopwords"
   ]
  },
  {
   "cell_type": "code",
   "execution_count": 28,
   "id": "ac8507cc",
   "metadata": {},
   "outputs": [
    {
     "data": {
      "text/plain": [
       "['a',\n",
       " 'about',\n",
       " 'above',\n",
       " 'after',\n",
       " 'again',\n",
       " 'against',\n",
       " 'ain',\n",
       " 'all',\n",
       " 'am',\n",
       " 'an',\n",
       " 'and',\n",
       " 'any',\n",
       " 'are',\n",
       " 'aren',\n",
       " \"aren't\",\n",
       " 'as',\n",
       " 'at',\n",
       " 'be',\n",
       " 'because',\n",
       " 'been',\n",
       " 'before',\n",
       " 'being',\n",
       " 'below',\n",
       " 'between',\n",
       " 'both',\n",
       " 'but',\n",
       " 'by',\n",
       " 'can',\n",
       " 'couldn',\n",
       " \"couldn't\",\n",
       " 'd',\n",
       " 'did',\n",
       " 'didn',\n",
       " \"didn't\",\n",
       " 'do',\n",
       " 'does',\n",
       " 'doesn',\n",
       " \"doesn't\",\n",
       " 'doing',\n",
       " 'don',\n",
       " \"don't\",\n",
       " 'down',\n",
       " 'during',\n",
       " 'each',\n",
       " 'few',\n",
       " 'for',\n",
       " 'from',\n",
       " 'further',\n",
       " 'had',\n",
       " 'hadn',\n",
       " \"hadn't\",\n",
       " 'has',\n",
       " 'hasn',\n",
       " \"hasn't\",\n",
       " 'have',\n",
       " 'haven',\n",
       " \"haven't\",\n",
       " 'having',\n",
       " 'he',\n",
       " \"he'd\",\n",
       " \"he'll\",\n",
       " 'her',\n",
       " 'here',\n",
       " 'hers',\n",
       " 'herself',\n",
       " \"he's\",\n",
       " 'him',\n",
       " 'himself',\n",
       " 'his',\n",
       " 'how',\n",
       " 'i',\n",
       " \"i'd\",\n",
       " 'if',\n",
       " \"i'll\",\n",
       " \"i'm\",\n",
       " 'in',\n",
       " 'into',\n",
       " 'is',\n",
       " 'isn',\n",
       " \"isn't\",\n",
       " 'it',\n",
       " \"it'd\",\n",
       " \"it'll\",\n",
       " \"it's\",\n",
       " 'its',\n",
       " 'itself',\n",
       " \"i've\",\n",
       " 'just',\n",
       " 'll',\n",
       " 'm',\n",
       " 'ma',\n",
       " 'me',\n",
       " 'mightn',\n",
       " \"mightn't\",\n",
       " 'more',\n",
       " 'most',\n",
       " 'mustn',\n",
       " \"mustn't\",\n",
       " 'my',\n",
       " 'myself',\n",
       " 'needn',\n",
       " \"needn't\",\n",
       " 'no',\n",
       " 'nor',\n",
       " 'not',\n",
       " 'now',\n",
       " 'o',\n",
       " 'of',\n",
       " 'off',\n",
       " 'on',\n",
       " 'once',\n",
       " 'only',\n",
       " 'or',\n",
       " 'other',\n",
       " 'our',\n",
       " 'ours',\n",
       " 'ourselves',\n",
       " 'out',\n",
       " 'over',\n",
       " 'own',\n",
       " 're',\n",
       " 's',\n",
       " 'same',\n",
       " 'shan',\n",
       " \"shan't\",\n",
       " 'she',\n",
       " \"she'd\",\n",
       " \"she'll\",\n",
       " \"she's\",\n",
       " 'should',\n",
       " 'shouldn',\n",
       " \"shouldn't\",\n",
       " \"should've\",\n",
       " 'so',\n",
       " 'some',\n",
       " 'such',\n",
       " 't',\n",
       " 'than',\n",
       " 'that',\n",
       " \"that'll\",\n",
       " 'the',\n",
       " 'their',\n",
       " 'theirs',\n",
       " 'them',\n",
       " 'themselves',\n",
       " 'then',\n",
       " 'there',\n",
       " 'these',\n",
       " 'they',\n",
       " \"they'd\",\n",
       " \"they'll\",\n",
       " \"they're\",\n",
       " \"they've\",\n",
       " 'this',\n",
       " 'those',\n",
       " 'through',\n",
       " 'to',\n",
       " 'too',\n",
       " 'under',\n",
       " 'until',\n",
       " 'up',\n",
       " 've',\n",
       " 'very',\n",
       " 'was',\n",
       " 'wasn',\n",
       " \"wasn't\",\n",
       " 'we',\n",
       " \"we'd\",\n",
       " \"we'll\",\n",
       " \"we're\",\n",
       " 'were',\n",
       " 'weren',\n",
       " \"weren't\",\n",
       " \"we've\",\n",
       " 'what',\n",
       " 'when',\n",
       " 'where',\n",
       " 'which',\n",
       " 'while',\n",
       " 'who',\n",
       " 'whom',\n",
       " 'why',\n",
       " 'will',\n",
       " 'with',\n",
       " 'won',\n",
       " \"won't\",\n",
       " 'wouldn',\n",
       " \"wouldn't\",\n",
       " 'y',\n",
       " 'you',\n",
       " \"you'd\",\n",
       " \"you'll\",\n",
       " 'your',\n",
       " \"you're\",\n",
       " 'yours',\n",
       " 'yourself',\n",
       " 'yourselves',\n",
       " \"you've\"]"
      ]
     },
     "execution_count": 28,
     "metadata": {},
     "output_type": "execute_result"
    }
   ],
   "source": [
    "stopwords.words('english')"
   ]
  },
  {
   "cell_type": "code",
   "execution_count": 29,
   "id": "e981d7f0",
   "metadata": {},
   "outputs": [],
   "source": [
    "from nltk.tokenize import sent_tokenize , word_tokenize\n",
    "from nltk.stem import PorterStemmer\n",
    "stemmer = PorterStemmer()"
   ]
  },
  {
   "cell_type": "code",
   "execution_count": 44,
   "id": "e39f5c05",
   "metadata": {},
   "outputs": [],
   "source": [
    "sentences = sent_tokenize(paragraph)"
   ]
  },
  {
   "cell_type": "code",
   "execution_count": 31,
   "id": "33cf23f3",
   "metadata": {},
   "outputs": [
    {
     "data": {
      "text/plain": [
       "['\\n            In a quiet village nestled between rolling hills and whispering forests, \\n            the days flowed gently like the nearby stream.',\n",
       " 'Children laughed as they chased butterflies through fields \\n            dotted with wildflowers, their carefree joy echoing in the warm afternoon air.',\n",
       " 'Farmers tended to their crops with practiced hands, exchanging cheerful greetings with neighbors passing by on \\n            dusty paths.',\n",
       " 'The aroma of freshly baked bread drifted from open windows, mingling with the scent of honeysuckle \\n            and sun-warmed earth.',\n",
       " 'As the sun dipped behind the hills, painting the sky in hues of orange and rose, families \\n            gathered on porches to share stories and tea.',\n",
       " 'Lanterns flickered to life one by one, casting soft golden glows \\n            across cobblestone streets.',\n",
       " 'A calmness settled over the village, wrapping every home in a blanket of peace.',\n",
       " 'Life moved slowly here, not out of necessity, but by choice—a treasured rhythm that reminded all who lived there \\n            what truly mattered.']"
      ]
     },
     "execution_count": 31,
     "metadata": {},
     "output_type": "execute_result"
    }
   ],
   "source": [
    "sentences"
   ]
  },
  {
   "cell_type": "code",
   "execution_count": 32,
   "id": "e6cbb8df",
   "metadata": {},
   "outputs": [],
   "source": [
    "##USING PORTER STEMMER\n",
    "for i in range(len(sentences)):\n",
    "    words = nltk.word_tokenize(sentences[i])  # Tokenize the sentence\n",
    "    words = [stemmer.stem(word) for word in words if word not in stopwords.words('english')]  # Apply stemming and remove stopwords\n",
    "    sentences[i] = ' '.join(words) "
   ]
  },
  {
   "cell_type": "code",
   "execution_count": 33,
   "id": "93232950",
   "metadata": {},
   "outputs": [
    {
     "data": {
      "text/plain": [
       "['in quiet villag nestl roll hill whisper forest , day flow gentli like nearbi stream .',\n",
       " 'children laugh chase butterfli field dot wildflow , carefre joy echo warm afternoon air .',\n",
       " 'farmer tend crop practic hand , exchang cheer greet neighbor pass dusti path .',\n",
       " 'the aroma freshli bake bread drift open window , mingl scent honeysuckl sun-warm earth .',\n",
       " 'as sun dip behind hill , paint sky hue orang rose , famili gather porch share stori tea .',\n",
       " 'lantern flicker life one one , cast soft golden glow across cobbleston street .',\n",
       " 'a calm settl villag , wrap everi home blanket peac .',\n",
       " 'life move slowli , necess , choice—a treasur rhythm remind live truli matter .']"
      ]
     },
     "execution_count": 33,
     "metadata": {},
     "output_type": "execute_result"
    }
   ],
   "source": [
    "sentences"
   ]
  },
  {
   "cell_type": "code",
   "execution_count": 41,
   "id": "48074596",
   "metadata": {},
   "outputs": [],
   "source": [
    "##USING SNOWBALL STEMMER \n",
    "from nltk.stem import SnowballStemmer\n",
    "snow_ball_stemmer = SnowballStemmer('english')\n",
    "for i in range(len(sentences)):\n",
    "    words = nltk.word_tokenize(sentences[i])  # Tokenize the sentence\n",
    "    words = [snow_ball_stemmer.stem(word) for word in words if word not in stopwords.words('english')]  # Apply stemming and remove stopwords\n",
    "    sentences[i] = ' '.join(words) "
   ]
  },
  {
   "cell_type": "code",
   "execution_count": 42,
   "id": "ebbf4ef2",
   "metadata": {},
   "outputs": [
    {
     "data": {
      "text/plain": [
       "['in quiet villag nestl roll hill whisper forest , day flow gentl like nearbi stream .',\n",
       " 'children laugh chase butterfli field dot wildflow , carefre joy echo warm afternoon air .',\n",
       " 'farmer tend crop practic hand , exchang cheer greet neighbor pass dusti path .',\n",
       " 'the aroma fresh bake bread drift open window , mingl scent honeysuckl sun-warm earth .',\n",
       " 'as sun dip behind hill , paint sky hue orang rose , famili gather porch share stori tea .',\n",
       " 'lantern flicker life one one , cast soft golden glow across cobbleston street .',\n",
       " 'a calm settl villag , wrap everi home blanket peac .',\n",
       " 'life move slowli , necess , choice—a treasur rhythm remind live truli matter .']"
      ]
     },
     "execution_count": 42,
     "metadata": {},
     "output_type": "execute_result"
    }
   ],
   "source": [
    "sentences"
   ]
  },
  {
   "cell_type": "code",
   "execution_count": 45,
   "id": "b9609780",
   "metadata": {},
   "outputs": [],
   "source": [
    "##USING LEMMATIZATION \n",
    "from nltk.stem import WordNetLemmatizer\n",
    "lemmatizer = WordNetLemmatizer()\n",
    "for i in range(len(sentences)):\n",
    "    words = nltk.word_tokenize(sentences[i])  # Tokenize the sentence\n",
    "    words = [lemmatizer.lemmatize(word) for word in words if word not in stopwords.words('english')]  # Apply stemming and remove stopwords\n",
    "    sentences[i] = ' '.join(words) "
   ]
  },
  {
   "cell_type": "code",
   "execution_count": 46,
   "id": "1e5840d0",
   "metadata": {},
   "outputs": [
    {
     "data": {
      "text/plain": [
       "['In quiet village nestled rolling hill whispering forest , day flowed gently like nearby stream .',\n",
       " 'Children laughed chased butterfly field dotted wildflower , carefree joy echoing warm afternoon air .',\n",
       " 'Farmers tended crop practiced hand , exchanging cheerful greeting neighbor passing dusty path .',\n",
       " 'The aroma freshly baked bread drifted open window , mingling scent honeysuckle sun-warmed earth .',\n",
       " 'As sun dipped behind hill , painting sky hue orange rose , family gathered porch share story tea .',\n",
       " 'Lanterns flickered life one one , casting soft golden glow across cobblestone street .',\n",
       " 'A calmness settled village , wrapping every home blanket peace .',\n",
       " 'Life moved slowly , necessity , choice—a treasured rhythm reminded lived truly mattered .']"
      ]
     },
     "execution_count": 46,
     "metadata": {},
     "output_type": "execute_result"
    }
   ],
   "source": [
    "sentences"
   ]
  },
  {
   "cell_type": "code",
   "execution_count": null,
   "id": "90357c07",
   "metadata": {},
   "outputs": [],
   "source": []
  }
 ],
 "metadata": {
  "kernelspec": {
   "display_name": "Python 3 (ipykernel)",
   "language": "python",
   "name": "python3"
  },
  "language_info": {
   "codemirror_mode": {
    "name": "ipython",
    "version": 3
   },
   "file_extension": ".py",
   "mimetype": "text/x-python",
   "name": "python",
   "nbconvert_exporter": "python",
   "pygments_lexer": "ipython3",
   "version": "3.11.5"
  }
 },
 "nbformat": 4,
 "nbformat_minor": 5
}
